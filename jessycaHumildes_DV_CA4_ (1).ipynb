{
 "cells": [
  {
   "cell_type": "code",
   "execution_count": 12,
   "metadata": {},
   "outputs": [],
   "source": [
    "#import Libraries\n",
    "import pandas as pd\n",
    "import seaborn as sns\n",
    "import matplotlib.pyplot as pt\n",
    "import numpy as np\n",
    "import plotly.express as px"
   ]
  },
  {
   "cell_type": "code",
   "execution_count": 13,
   "metadata": {},
   "outputs": [],
   "source": [
    "#read file\n",
    "coin_df = pd.read_csv(\"consolidated_coin_data.csv\")"
   ]
  },
  {
   "cell_type": "code",
   "execution_count": 14,
   "metadata": {},
   "outputs": [
    {
     "data": {
      "text/html": [
       "<div>\n",
       "<style scoped>\n",
       "    .dataframe tbody tr th:only-of-type {\n",
       "        vertical-align: middle;\n",
       "    }\n",
       "\n",
       "    .dataframe tbody tr th {\n",
       "        vertical-align: top;\n",
       "    }\n",
       "\n",
       "    .dataframe thead th {\n",
       "        text-align: right;\n",
       "    }\n",
       "</style>\n",
       "<table border=\"1\" class=\"dataframe\">\n",
       "  <thead>\n",
       "    <tr style=\"text-align: right;\">\n",
       "      <th></th>\n",
       "      <th>Currency</th>\n",
       "      <th>Date</th>\n",
       "      <th>Open</th>\n",
       "      <th>High</th>\n",
       "      <th>Low</th>\n",
       "      <th>Close</th>\n",
       "      <th>Volume</th>\n",
       "      <th>Market Cap</th>\n",
       "    </tr>\n",
       "  </thead>\n",
       "  <tbody>\n",
       "    <tr>\n",
       "      <th>0</th>\n",
       "      <td>tezos</td>\n",
       "      <td>Dec 04, 2019</td>\n",
       "      <td>1.29</td>\n",
       "      <td>1.32</td>\n",
       "      <td>1.25</td>\n",
       "      <td>1.25</td>\n",
       "      <td>46,048,752</td>\n",
       "      <td>824,588,509</td>\n",
       "    </tr>\n",
       "    <tr>\n",
       "      <th>1</th>\n",
       "      <td>tezos</td>\n",
       "      <td>Dec 03, 2019</td>\n",
       "      <td>1.24</td>\n",
       "      <td>1.32</td>\n",
       "      <td>1.21</td>\n",
       "      <td>1.29</td>\n",
       "      <td>41,462,224</td>\n",
       "      <td>853,213,342</td>\n",
       "    </tr>\n",
       "    <tr>\n",
       "      <th>2</th>\n",
       "      <td>tezos</td>\n",
       "      <td>Dec 02, 2019</td>\n",
       "      <td>1.25</td>\n",
       "      <td>1.26</td>\n",
       "      <td>1.2</td>\n",
       "      <td>1.24</td>\n",
       "      <td>27,574,097</td>\n",
       "      <td>817,872,179</td>\n",
       "    </tr>\n",
       "    <tr>\n",
       "      <th>3</th>\n",
       "      <td>tezos</td>\n",
       "      <td>Dec 01, 2019</td>\n",
       "      <td>1.33</td>\n",
       "      <td>1.34</td>\n",
       "      <td>1.25</td>\n",
       "      <td>1.25</td>\n",
       "      <td>24,127,567</td>\n",
       "      <td>828,296,390</td>\n",
       "    </tr>\n",
       "    <tr>\n",
       "      <th>4</th>\n",
       "      <td>tezos</td>\n",
       "      <td>Nov 30, 2019</td>\n",
       "      <td>1.31</td>\n",
       "      <td>1.37</td>\n",
       "      <td>1.31</td>\n",
       "      <td>1.33</td>\n",
       "      <td>28,706,667</td>\n",
       "      <td>879,181,680</td>\n",
       "    </tr>\n",
       "  </tbody>\n",
       "</table>\n",
       "</div>"
      ],
      "text/plain": [
       "  Currency          Date  Open  High   Low Close      Volume   Market Cap\n",
       "0    tezos  Dec 04, 2019  1.29  1.32  1.25  1.25  46,048,752  824,588,509\n",
       "1    tezos  Dec 03, 2019  1.24  1.32  1.21  1.29  41,462,224  853,213,342\n",
       "2    tezos  Dec 02, 2019  1.25  1.26   1.2  1.24  27,574,097  817,872,179\n",
       "3    tezos  Dec 01, 2019  1.33  1.34  1.25  1.25  24,127,567  828,296,390\n",
       "4    tezos  Nov 30, 2019  1.31  1.37  1.31  1.33  28,706,667  879,181,680"
      ]
     },
     "execution_count": 14,
     "metadata": {},
     "output_type": "execute_result"
    }
   ],
   "source": [
    "coin_df.head()"
   ]
  },
  {
   "cell_type": "markdown",
   "metadata": {},
   "source": [
    "# Q2"
   ]
  },
  {
   "cell_type": "markdown",
   "metadata": {},
   "source": [
    "First, I will analyze the raw dataset and make sure I only have the colunms I want to work with.\n",
    "\n",
    "I will be analyzing the “consolidated_coin_data.csv” dataset to check the variables.\n",
    "\n",
    "As all columns are of the variable type object I will modify them so that I can generate the applicable views.\n",
    "\n",
    "The main columns that I will be working on will be:\n",
    "\n",
    "'Currency'<br>\n",
    "Name of currency\n",
    "\n",
    "'Date'<br>\n",
    "Date refers to the calendar date for the particular row - 24 hours midnight to midnight\n",
    "\n",
    "'High'<br>\n",
    "Highest recorded trading price of the day\n",
    "\n",
    "'Volume'<br>\n",
    "Volume represents the monetary value of the currency traded in a 24 hour period.\n",
    "\n",
    "'Market Cap'<br>\n",
    "Market cap is circulating supply x price of the coin. \n",
    "\n",
    "\n",
    "By analysing the first colunm 'Currency' to verify how many currencies are in the dataset we can see that we have 12 currencies.\n",
    "I have noticed that in the description of this assignment I was required to analyze 10 currencies, but it was not clear for me that I should filter the dataset in order to work with only 10 currencies. Therefore, I will be working with all of them.\n",
    "\n",
    "To display the visualization of the  change in the “High” value I will be following some steps:\n",
    "\n",
    "- Select the columns that I will work on for this exercise. Being them 'Currency', 'Date',\t'High',\t'Volume' and\t'Market Cap'\n",
    "- Analyze the dataset to see how many unique values  there are in Currency column.\n",
    "- Clear the data set by eliminating ','.\n",
    "- Analyze the data types of the columns and change from object datatype to numeric\n",
    "- For 'Date' I modified to_datetime.\n",
    "\n",
    "Now I will be able to generate a plot that details change in the “High” value for all the Currencies over\n",
    "time.\n",
    "\n",
    " "
   ]
  },
  {
   "cell_type": "code",
   "execution_count": 15,
   "metadata": {},
   "outputs": [],
   "source": [
    "#load columns from the data\n",
    "columns = ['Currency','Date','High','Volume', 'Market Cap'] \n",
    "currencies_df = pd.read_csv(\"consolidated_coin_data.csv\")[columns]"
   ]
  },
  {
   "cell_type": "code",
   "execution_count": 16,
   "metadata": {},
   "outputs": [
    {
     "data": {
      "text/html": [
       "<div>\n",
       "<style scoped>\n",
       "    .dataframe tbody tr th:only-of-type {\n",
       "        vertical-align: middle;\n",
       "    }\n",
       "\n",
       "    .dataframe tbody tr th {\n",
       "        vertical-align: top;\n",
       "    }\n",
       "\n",
       "    .dataframe thead th {\n",
       "        text-align: right;\n",
       "    }\n",
       "</style>\n",
       "<table border=\"1\" class=\"dataframe\">\n",
       "  <thead>\n",
       "    <tr style=\"text-align: right;\">\n",
       "      <th></th>\n",
       "      <th>Currency</th>\n",
       "      <th>Date</th>\n",
       "      <th>High</th>\n",
       "      <th>Volume</th>\n",
       "      <th>Market Cap</th>\n",
       "    </tr>\n",
       "  </thead>\n",
       "  <tbody>\n",
       "    <tr>\n",
       "      <th>0</th>\n",
       "      <td>tezos</td>\n",
       "      <td>Dec 04, 2019</td>\n",
       "      <td>1.32</td>\n",
       "      <td>46,048,752</td>\n",
       "      <td>824,588,509</td>\n",
       "    </tr>\n",
       "    <tr>\n",
       "      <th>1</th>\n",
       "      <td>tezos</td>\n",
       "      <td>Dec 03, 2019</td>\n",
       "      <td>1.32</td>\n",
       "      <td>41,462,224</td>\n",
       "      <td>853,213,342</td>\n",
       "    </tr>\n",
       "    <tr>\n",
       "      <th>2</th>\n",
       "      <td>tezos</td>\n",
       "      <td>Dec 02, 2019</td>\n",
       "      <td>1.26</td>\n",
       "      <td>27,574,097</td>\n",
       "      <td>817,872,179</td>\n",
       "    </tr>\n",
       "    <tr>\n",
       "      <th>3</th>\n",
       "      <td>tezos</td>\n",
       "      <td>Dec 01, 2019</td>\n",
       "      <td>1.34</td>\n",
       "      <td>24,127,567</td>\n",
       "      <td>828,296,390</td>\n",
       "    </tr>\n",
       "    <tr>\n",
       "      <th>4</th>\n",
       "      <td>tezos</td>\n",
       "      <td>Nov 30, 2019</td>\n",
       "      <td>1.37</td>\n",
       "      <td>28,706,667</td>\n",
       "      <td>879,181,680</td>\n",
       "    </tr>\n",
       "  </tbody>\n",
       "</table>\n",
       "</div>"
      ],
      "text/plain": [
       "  Currency          Date  High      Volume   Market Cap\n",
       "0    tezos  Dec 04, 2019  1.32  46,048,752  824,588,509\n",
       "1    tezos  Dec 03, 2019  1.32  41,462,224  853,213,342\n",
       "2    tezos  Dec 02, 2019  1.26  27,574,097  817,872,179\n",
       "3    tezos  Dec 01, 2019  1.34  24,127,567  828,296,390\n",
       "4    tezos  Nov 30, 2019  1.37  28,706,667  879,181,680"
      ]
     },
     "execution_count": 16,
     "metadata": {},
     "output_type": "execute_result"
    }
   ],
   "source": [
    "currencies_df.head()"
   ]
  },
  {
   "cell_type": "code",
   "execution_count": 17,
   "metadata": {},
   "outputs": [
    {
     "data": {
      "text/plain": [
       "array(['tezos', 'binance-coin', 'eos', 'bitcoin', 'tether', 'xrp',\n",
       "       'bitcoin-cash', 'stellar', 'litecoin', 'ethereum', 'cardano',\n",
       "       'bitcoin-sv'], dtype=object)"
      ]
     },
     "execution_count": 17,
     "metadata": {},
     "output_type": "execute_result"
    }
   ],
   "source": [
    "#checking how many unique values in the colunm 'Currency'\n",
    "currencies_df.Currency.unique()"
   ]
  },
  {
   "cell_type": "code",
   "execution_count": 18,
   "metadata": {},
   "outputs": [
    {
     "data": {
      "text/plain": [
       "Currency      object\n",
       "Date          object\n",
       "High          object\n",
       "Volume        object\n",
       "Market Cap    object\n",
       "dtype: object"
      ]
     },
     "execution_count": 18,
     "metadata": {},
     "output_type": "execute_result"
    }
   ],
   "source": [
    "#Check data types\n",
    "currencies_df.dtypes"
   ]
  },
  {
   "cell_type": "markdown",
   "metadata": {},
   "source": [
    "First Column to be modyfied will be the colunm 'Date'"
   ]
  },
  {
   "cell_type": "code",
   "execution_count": 19,
   "metadata": {},
   "outputs": [],
   "source": [
    "currency_High = currencies_df\n",
    "\n",
    "#modifying 'Date' to datetime\n",
    "currency_High['Date'] = pd.to_datetime(currency_High['Date'])"
   ]
  },
  {
   "cell_type": "code",
   "execution_count": 20,
   "metadata": {
    "scrolled": true
   },
   "outputs": [
    {
     "data": {
      "text/html": [
       "<div>\n",
       "<style scoped>\n",
       "    .dataframe tbody tr th:only-of-type {\n",
       "        vertical-align: middle;\n",
       "    }\n",
       "\n",
       "    .dataframe tbody tr th {\n",
       "        vertical-align: top;\n",
       "    }\n",
       "\n",
       "    .dataframe thead th {\n",
       "        text-align: right;\n",
       "    }\n",
       "</style>\n",
       "<table border=\"1\" class=\"dataframe\">\n",
       "  <thead>\n",
       "    <tr style=\"text-align: right;\">\n",
       "      <th></th>\n",
       "      <th>Currency</th>\n",
       "      <th>Date</th>\n",
       "      <th>High</th>\n",
       "      <th>Volume</th>\n",
       "      <th>Market Cap</th>\n",
       "    </tr>\n",
       "  </thead>\n",
       "  <tbody>\n",
       "    <tr>\n",
       "      <th>0</th>\n",
       "      <td>tezos</td>\n",
       "      <td>2019-12-04</td>\n",
       "      <td>1.32</td>\n",
       "      <td>46,048,752</td>\n",
       "      <td>824,588,509</td>\n",
       "    </tr>\n",
       "    <tr>\n",
       "      <th>1</th>\n",
       "      <td>tezos</td>\n",
       "      <td>2019-12-03</td>\n",
       "      <td>1.32</td>\n",
       "      <td>41,462,224</td>\n",
       "      <td>853,213,342</td>\n",
       "    </tr>\n",
       "    <tr>\n",
       "      <th>2</th>\n",
       "      <td>tezos</td>\n",
       "      <td>2019-12-02</td>\n",
       "      <td>1.26</td>\n",
       "      <td>27,574,097</td>\n",
       "      <td>817,872,179</td>\n",
       "    </tr>\n",
       "    <tr>\n",
       "      <th>3</th>\n",
       "      <td>tezos</td>\n",
       "      <td>2019-12-01</td>\n",
       "      <td>1.34</td>\n",
       "      <td>24,127,567</td>\n",
       "      <td>828,296,390</td>\n",
       "    </tr>\n",
       "    <tr>\n",
       "      <th>4</th>\n",
       "      <td>tezos</td>\n",
       "      <td>2019-11-30</td>\n",
       "      <td>1.37</td>\n",
       "      <td>28,706,667</td>\n",
       "      <td>879,181,680</td>\n",
       "    </tr>\n",
       "  </tbody>\n",
       "</table>\n",
       "</div>"
      ],
      "text/plain": [
       "  Currency       Date  High      Volume   Market Cap\n",
       "0    tezos 2019-12-04  1.32  46,048,752  824,588,509\n",
       "1    tezos 2019-12-03  1.32  41,462,224  853,213,342\n",
       "2    tezos 2019-12-02  1.26  27,574,097  817,872,179\n",
       "3    tezos 2019-12-01  1.34  24,127,567  828,296,390\n",
       "4    tezos 2019-11-30  1.37  28,706,667  879,181,680"
      ]
     },
     "execution_count": 20,
     "metadata": {},
     "output_type": "execute_result"
    }
   ],
   "source": [
    "currency_High.head()"
   ]
  },
  {
   "cell_type": "code",
   "execution_count": 21,
   "metadata": {},
   "outputs": [
    {
     "data": {
      "text/plain": [
       "Currency              object\n",
       "Date          datetime64[ns]\n",
       "High                  object\n",
       "Volume                object\n",
       "Market Cap            object\n",
       "dtype: object"
      ]
     },
     "execution_count": 21,
     "metadata": {},
     "output_type": "execute_result"
    }
   ],
   "source": [
    "currency_High.dtypes"
   ]
  },
  {
   "cell_type": "markdown",
   "metadata": {},
   "source": [
    "As we can see 'Date' that was as dtype object now is datetime."
   ]
  },
  {
   "cell_type": "code",
   "execution_count": 22,
   "metadata": {},
   "outputs": [
    {
     "data": {
      "text/plain": [
       "0        <class 'str'>\n",
       "1        <class 'str'>\n",
       "2        <class 'str'>\n",
       "3        <class 'str'>\n",
       "4        <class 'str'>\n",
       "             ...      \n",
       "28939    <class 'str'>\n",
       "28940    <class 'str'>\n",
       "28941    <class 'str'>\n",
       "28942    <class 'str'>\n",
       "28943    <class 'str'>\n",
       "Name: High, Length: 28944, dtype: object"
      ]
     },
     "execution_count": 22,
     "metadata": {},
     "output_type": "execute_result"
    }
   ],
   "source": [
    "#'High' column is dtype object as we can see is defined as 'str'\n",
    "currency_High_tonumeric = currency_High.copy()\n",
    "currency_High_tonumeric['High'].apply(type)"
   ]
  },
  {
   "cell_type": "code",
   "execution_count": 23,
   "metadata": {},
   "outputs": [],
   "source": [
    "def clean_currency(x):\n",
    "    \"\"\" If the value is a string, then remove currency symbol and delimiters\n",
    "    otherwise, the value is numeric and can be converted\n",
    "    \"\"\"\n",
    "    if isinstance(x, str):\n",
    "        return(x.replace('$', '').replace(',', ''))\n",
    "    return(x)\n"
   ]
  },
  {
   "cell_type": "code",
   "execution_count": 24,
   "metadata": {},
   "outputs": [],
   "source": [
    "currency_High_tonumeric['High'] = currency_High_tonumeric['High'].apply(clean_currency).astype('float')"
   ]
  },
  {
   "cell_type": "code",
   "execution_count": 25,
   "metadata": {},
   "outputs": [
    {
     "data": {
      "text/plain": [
       "0        <class 'float'>\n",
       "1        <class 'float'>\n",
       "2        <class 'float'>\n",
       "3        <class 'float'>\n",
       "4        <class 'float'>\n",
       "              ...       \n",
       "28939    <class 'float'>\n",
       "28940    <class 'float'>\n",
       "28941    <class 'float'>\n",
       "28942    <class 'float'>\n",
       "28943    <class 'float'>\n",
       "Name: High, Length: 28944, dtype: object"
      ]
     },
     "execution_count": 25,
     "metadata": {},
     "output_type": "execute_result"
    }
   ],
   "source": [
    "currency_High_tonumeric['High'].apply(type)"
   ]
  },
  {
   "cell_type": "code",
   "execution_count": 26,
   "metadata": {},
   "outputs": [
    {
     "data": {
      "text/plain": [
       "Currency              object\n",
       "Date          datetime64[ns]\n",
       "High                 float64\n",
       "Volume                object\n",
       "Market Cap            object\n",
       "dtype: object"
      ]
     },
     "execution_count": 26,
     "metadata": {},
     "output_type": "execute_result"
    }
   ],
   "source": [
    "currency_High_tonumeric.dtypes"
   ]
  },
  {
   "cell_type": "code",
   "execution_count": 27,
   "metadata": {},
   "outputs": [
    {
     "data": {
      "text/html": [
       "<div>\n",
       "<style scoped>\n",
       "    .dataframe tbody tr th:only-of-type {\n",
       "        vertical-align: middle;\n",
       "    }\n",
       "\n",
       "    .dataframe tbody tr th {\n",
       "        vertical-align: top;\n",
       "    }\n",
       "\n",
       "    .dataframe thead th {\n",
       "        text-align: right;\n",
       "    }\n",
       "</style>\n",
       "<table border=\"1\" class=\"dataframe\">\n",
       "  <thead>\n",
       "    <tr style=\"text-align: right;\">\n",
       "      <th></th>\n",
       "      <th>Currency</th>\n",
       "      <th>Date</th>\n",
       "      <th>High</th>\n",
       "      <th>Volume</th>\n",
       "      <th>Market Cap</th>\n",
       "    </tr>\n",
       "  </thead>\n",
       "  <tbody>\n",
       "    <tr>\n",
       "      <th>0</th>\n",
       "      <td>tezos</td>\n",
       "      <td>2019-12-04</td>\n",
       "      <td>1.32</td>\n",
       "      <td>46,048,752</td>\n",
       "      <td>824,588,509</td>\n",
       "    </tr>\n",
       "    <tr>\n",
       "      <th>1</th>\n",
       "      <td>tezos</td>\n",
       "      <td>2019-12-03</td>\n",
       "      <td>1.32</td>\n",
       "      <td>41,462,224</td>\n",
       "      <td>853,213,342</td>\n",
       "    </tr>\n",
       "    <tr>\n",
       "      <th>2</th>\n",
       "      <td>tezos</td>\n",
       "      <td>2019-12-02</td>\n",
       "      <td>1.26</td>\n",
       "      <td>27,574,097</td>\n",
       "      <td>817,872,179</td>\n",
       "    </tr>\n",
       "    <tr>\n",
       "      <th>3</th>\n",
       "      <td>tezos</td>\n",
       "      <td>2019-12-01</td>\n",
       "      <td>1.34</td>\n",
       "      <td>24,127,567</td>\n",
       "      <td>828,296,390</td>\n",
       "    </tr>\n",
       "    <tr>\n",
       "      <th>4</th>\n",
       "      <td>tezos</td>\n",
       "      <td>2019-11-30</td>\n",
       "      <td>1.37</td>\n",
       "      <td>28,706,667</td>\n",
       "      <td>879,181,680</td>\n",
       "    </tr>\n",
       "  </tbody>\n",
       "</table>\n",
       "</div>"
      ],
      "text/plain": [
       "  Currency       Date  High      Volume   Market Cap\n",
       "0    tezos 2019-12-04  1.32  46,048,752  824,588,509\n",
       "1    tezos 2019-12-03  1.32  41,462,224  853,213,342\n",
       "2    tezos 2019-12-02  1.26  27,574,097  817,872,179\n",
       "3    tezos 2019-12-01  1.34  24,127,567  828,296,390\n",
       "4    tezos 2019-11-30  1.37  28,706,667  879,181,680"
      ]
     },
     "execution_count": 27,
     "metadata": {},
     "output_type": "execute_result"
    }
   ],
   "source": [
    "currency_High_tonumeric.head()"
   ]
  },
  {
   "cell_type": "markdown",
   "metadata": {},
   "source": [
    "# 17-35-year olds"
   ]
  },
  {
   "cell_type": "code",
   "execution_count": 88,
   "metadata": {},
   "outputs": [
    {
     "data": {
      "text/plain": [
       "Text(0, 0.5, 'Currency')"
      ]
     },
     "execution_count": 88,
     "metadata": {},
     "output_type": "execute_result"
    },
    {
     "data": {
      "image/png": "[encoded data removed]",
      "text/plain": [
       "<Figure size 432x288 with 1 Axes>"
      ]
     },
     "metadata": {
      "needs_background": "light"
     },
     "output_type": "display_data"
    }
   ],
   "source": [
    "ax = sns.scatterplot(x=\"High\", y=\"Currency\", data=currency_High_tonumeric, hue = \"Currency\")\n",
    "ax.set_xlabel('High', fontdict={'fontsize' : 15})\n",
    "ax.set_ylabel('Currency', fontdict={'fontsize' : 15})"
   ]
  },
  {
   "cell_type": "markdown",
   "metadata": {},
   "source": [
    "The sactterplot is one of the main tools that can be used for data visualization that can be easily interpreted by all age groups.<br>\n",
    "For the demonstration of the change in 'High' column for the group age 60+ in this exercise I will be using the scatterplot and limiting the number of colors for the currencies to one."
   ]
  },
  {
   "cell_type": "markdown",
   "metadata": {},
   "source": [
    "# 60+ age group"
   ]
  },
  {
   "cell_type": "code",
   "execution_count": 29,
   "metadata": {},
   "outputs": [
    {
     "data": {
      "text/plain": [
       "Text(0, 0.5, 'Date')"
      ]
     },
     "execution_count": 29,
     "metadata": {},
     "output_type": "execute_result"
    },
    {
     "data": {
      "image/png": "[encoded data removed]",
      "text/plain": [
       "<Figure size 432x288 with 1 Axes>"
      ]
     },
     "metadata": {
      "needs_background": "light"
     },
     "output_type": "display_data"
    }
   ],
   "source": [
    "ax = sns.scatterplot(x=\"High\", y=\"Currency\", data=currency_High_tonumeric)\n",
    "ax.set_xlabel('High', fontdict={'fontsize' : 15})\n",
    "ax.set_ylabel('Date', fontdict={'fontsize' : 15})"
   ]
  },
  {
   "cell_type": "markdown",
   "metadata": {},
   "source": [
    "# Q3"
   ]
  },
  {
   "cell_type": "markdown",
   "metadata": {},
   "source": [
    "To display the visualization of the chart depicting 'Volume' from years 2016 - 2019 for the top 3 currencies I held the following steps:\n",
    "- Filter the top 3 coins\n",
    "- Filter the dataset so that it has information only between the year 2016 and 2019.\n",
    "- Clear the dataset by replacing ','.\n",
    "- Change object data types to numeric.\n",
    "- create a subset of the top 3 currencies.\n",
    "\n",
    "Now I can plot a graph depicting the “Volume” by Currency between 2016 and 2019 for the\n",
    "top 3 Currencies."
   ]
  },
  {
   "cell_type": "code",
   "execution_count": 30,
   "metadata": {},
   "outputs": [],
   "source": [
    "#filter top 3 Currencies by Market Cap\n",
    "top_3_currencies = currencies_df.groupby(by=['Currency'])['Market Cap'].agg(\"sum\").sort_values(ascending=False).reset_index().head(3)"
   ]
  },
  {
   "cell_type": "code",
   "execution_count": 36,
   "metadata": {},
   "outputs": [
    {
     "data": {
      "text/html": [
       "<div>\n",
       "<style scoped>\n",
       "    .dataframe tbody tr th:only-of-type {\n",
       "        vertical-align: middle;\n",
       "    }\n",
       "\n",
       "    .dataframe tbody tr th {\n",
       "        vertical-align: top;\n",
       "    }\n",
       "\n",
       "    .dataframe thead th {\n",
       "        text-align: right;\n",
       "    }\n",
       "</style>\n",
       "<table border=\"1\" class=\"dataframe\">\n",
       "  <thead>\n",
       "    <tr style=\"text-align: right;\">\n",
       "      <th></th>\n",
       "      <th>Currency</th>\n",
       "      <th>Market Cap</th>\n",
       "    </tr>\n",
       "  </thead>\n",
       "  <tbody>\n",
       "    <tr>\n",
       "      <th>0</th>\n",
       "      <td>cardano</td>\n",
       "      <td>969,802,335983,080,974986,684,9201,026,365,437...</td>\n",
       "    </tr>\n",
       "    <tr>\n",
       "      <th>1</th>\n",
       "      <td>xrp</td>\n",
       "      <td>9,364,745,6889,517,202,0269,507,818,7609,756,8...</td>\n",
       "    </tr>\n",
       "    <tr>\n",
       "      <th>2</th>\n",
       "      <td>tezos</td>\n",
       "      <td>824,588,509853,213,342817,872,179828,296,39087...</td>\n",
       "    </tr>\n",
       "  </tbody>\n",
       "</table>\n",
       "</div>"
      ],
      "text/plain": [
       "  Currency                                         Market Cap\n",
       "0  cardano  969,802,335983,080,974986,684,9201,026,365,437...\n",
       "1      xrp  9,364,745,6889,517,202,0269,507,818,7609,756,8...\n",
       "2    tezos  824,588,509853,213,342817,872,179828,296,39087..."
      ]
     },
     "execution_count": 36,
     "metadata": {},
     "output_type": "execute_result"
    }
   ],
   "source": [
    "top_3_currencies.head()"
   ]
  },
  {
   "cell_type": "code",
   "execution_count": 37,
   "metadata": {},
   "outputs": [],
   "source": [
    "top_countries_beer=[\"bitcoin\",\"cardano\",\"xrp\"]"
   ]
  },
  {
   "cell_type": "code",
   "execution_count": 40,
   "metadata": {},
   "outputs": [
    {
     "data": {
      "text/html": [
       "<div>\n",
       "<style scoped>\n",
       "    .dataframe tbody tr th:only-of-type {\n",
       "        vertical-align: middle;\n",
       "    }\n",
       "\n",
       "    .dataframe tbody tr th {\n",
       "        vertical-align: top;\n",
       "    }\n",
       "\n",
       "    .dataframe thead th {\n",
       "        text-align: right;\n",
       "    }\n",
       "</style>\n",
       "<table border=\"1\" class=\"dataframe\">\n",
       "  <thead>\n",
       "    <tr style=\"text-align: right;\">\n",
       "      <th></th>\n",
       "      <th>Currency</th>\n",
       "      <th>Date</th>\n",
       "      <th>High</th>\n",
       "      <th>Volume</th>\n",
       "      <th>Market Cap</th>\n",
       "    </tr>\n",
       "  </thead>\n",
       "  <tbody>\n",
       "    <tr>\n",
       "      <th>0</th>\n",
       "      <td>tezos</td>\n",
       "      <td>2019-12-04</td>\n",
       "      <td>1.32</td>\n",
       "      <td>46,048,752</td>\n",
       "      <td>824,588,509</td>\n",
       "    </tr>\n",
       "    <tr>\n",
       "      <th>1</th>\n",
       "      <td>tezos</td>\n",
       "      <td>2019-12-03</td>\n",
       "      <td>1.32</td>\n",
       "      <td>41,462,224</td>\n",
       "      <td>853,213,342</td>\n",
       "    </tr>\n",
       "    <tr>\n",
       "      <th>2</th>\n",
       "      <td>tezos</td>\n",
       "      <td>2019-12-02</td>\n",
       "      <td>1.26</td>\n",
       "      <td>27,574,097</td>\n",
       "      <td>817,872,179</td>\n",
       "    </tr>\n",
       "    <tr>\n",
       "      <th>3</th>\n",
       "      <td>tezos</td>\n",
       "      <td>2019-12-01</td>\n",
       "      <td>1.34</td>\n",
       "      <td>24,127,567</td>\n",
       "      <td>828,296,390</td>\n",
       "    </tr>\n",
       "    <tr>\n",
       "      <th>4</th>\n",
       "      <td>tezos</td>\n",
       "      <td>2019-11-30</td>\n",
       "      <td>1.37</td>\n",
       "      <td>28,706,667</td>\n",
       "      <td>879,181,680</td>\n",
       "    </tr>\n",
       "  </tbody>\n",
       "</table>\n",
       "</div>"
      ],
      "text/plain": [
       "  Currency       Date  High      Volume   Market Cap\n",
       "0    tezos 2019-12-04  1.32  46,048,752  824,588,509\n",
       "1    tezos 2019-12-03  1.32  41,462,224  853,213,342\n",
       "2    tezos 2019-12-02  1.26  27,574,097  817,872,179\n",
       "3    tezos 2019-12-01  1.34  24,127,567  828,296,390\n",
       "4    tezos 2019-11-30  1.37  28,706,667  879,181,680"
      ]
     },
     "execution_count": 40,
     "metadata": {},
     "output_type": "execute_result"
    }
   ],
   "source": [
    "#filter date from 2016 to 2019\n",
    "currency_volume_2016_2019 = currencies_df\n",
    "\n",
    "currency_volume_2016_2019['Date'] = pd.to_datetime(currency_volume_2016_2019['Date'])\n",
    "\n",
    "start_date = '2016-01-01'\n",
    "end_date = '2019-12-31'\n",
    "\n",
    "mask = (currency_volume_2016_2019['Date'] > start_date) & (currency_volume_2016_2019['Date'] <= end_date)\n",
    "\n",
    "currency_volume_2016_2019 = currency_volume_2016_2019.loc[mask]\n",
    "currency_volume_2016_2019.head()"
   ]
  },
  {
   "cell_type": "code",
   "execution_count": 41,
   "metadata": {},
   "outputs": [
    {
     "data": {
      "text/plain": [
       "array(['tezos', 'binance-coin', 'eos', 'bitcoin', 'tether', 'xrp',\n",
       "       'bitcoin-cash', 'stellar', 'litecoin', 'ethereum', 'cardano',\n",
       "       'bitcoin-sv'], dtype=object)"
      ]
     },
     "execution_count": 41,
     "metadata": {},
     "output_type": "execute_result"
    }
   ],
   "source": [
    "currency_volume_2016_2019.Currency.unique()"
   ]
  },
  {
   "cell_type": "code",
   "execution_count": 42,
   "metadata": {},
   "outputs": [
    {
     "data": {
      "text/plain": [
       "Currency              object\n",
       "Date          datetime64[ns]\n",
       "High                  object\n",
       "Volume                object\n",
       "Market Cap            object\n",
       "dtype: object"
      ]
     },
     "execution_count": 42,
     "metadata": {},
     "output_type": "execute_result"
    }
   ],
   "source": [
    "currency_volume_2016_2019.dtypes"
   ]
  },
  {
   "cell_type": "code",
   "execution_count": 43,
   "metadata": {},
   "outputs": [
    {
     "name": "stderr",
     "output_type": "stream",
     "text": [
      "<ipython-input-43-90052983b2d4>:2: SettingWithCopyWarning: \n",
      "A value is trying to be set on a copy of a slice from a DataFrame.\n",
      "Try using .loc[row_indexer,col_indexer] = value instead\n",
      "\n",
      "See the caveats in the documentation: https://pandas.pydata.org/pandas-docs/stable/user_guide/indexing.html#returning-a-view-versus-a-copy\n",
      "  currency_volume_2016_2019['Volume'] = currency_volume_2016_2019['Volume'].str.replace(',', '')\n"
     ]
    }
   ],
   "source": [
    "#clean dataset replacing ','by ''\n",
    "currency_volume_2016_2019['Volume'] = currency_volume_2016_2019['Volume'].str.replace(',', '')"
   ]
  },
  {
   "cell_type": "code",
   "execution_count": 44,
   "metadata": {},
   "outputs": [
    {
     "data": {
      "text/plain": [
       "0        <class 'str'>\n",
       "1        <class 'str'>\n",
       "2        <class 'str'>\n",
       "3        <class 'str'>\n",
       "4        <class 'str'>\n",
       "             ...      \n",
       "27960    <class 'str'>\n",
       "27961    <class 'str'>\n",
       "27962    <class 'str'>\n",
       "27963    <class 'str'>\n",
       "27964    <class 'str'>\n",
       "Name: Volume, Length: 17196, dtype: object"
      ]
     },
     "execution_count": 44,
     "metadata": {},
     "output_type": "execute_result"
    }
   ],
   "source": [
    "currency_volume_2016_2019_modified = currency_volume_2016_2019.copy()\n",
    "currency_volume_2016_2019_modified['Volume'].apply(type)"
   ]
  },
  {
   "cell_type": "code",
   "execution_count": 45,
   "metadata": {},
   "outputs": [
    {
     "data": {
      "text/plain": [
       "0        <class 'float'>\n",
       "1        <class 'float'>\n",
       "2        <class 'float'>\n",
       "3        <class 'float'>\n",
       "4        <class 'float'>\n",
       "              ...       \n",
       "27960    <class 'float'>\n",
       "27961    <class 'float'>\n",
       "27962    <class 'float'>\n",
       "27963    <class 'float'>\n",
       "27964    <class 'float'>\n",
       "Name: Market Cap, Length: 17196, dtype: object"
      ]
     },
     "execution_count": 45,
     "metadata": {},
     "output_type": "execute_result"
    }
   ],
   "source": [
    "#transform data type object to data type float\n",
    "currency_volume_2016_2019_modified['Volume'] = currency_volume_2016_2019_modified['Volume'].apply(clean_currency).astype('float')\n",
    "\n",
    "currency_volume_2016_2019_modified['Market Cap'] = currency_volume_2016_2019_modified['Market Cap'].apply(clean_currency).astype('float')\n",
    "currency_volume_2016_2019_modified['Market Cap'].apply(type)"
   ]
  },
  {
   "cell_type": "code",
   "execution_count": 46,
   "metadata": {},
   "outputs": [
    {
     "data": {
      "text/plain": [
       "0        <class 'float'>\n",
       "1        <class 'float'>\n",
       "2        <class 'float'>\n",
       "3        <class 'float'>\n",
       "4        <class 'float'>\n",
       "              ...       \n",
       "27960    <class 'float'>\n",
       "27961    <class 'float'>\n",
       "27962    <class 'float'>\n",
       "27963    <class 'float'>\n",
       "27964    <class 'float'>\n",
       "Name: Volume, Length: 17196, dtype: object"
      ]
     },
     "execution_count": 46,
     "metadata": {},
     "output_type": "execute_result"
    }
   ],
   "source": [
    "currency_volume_2016_2019_modified['Volume'].apply(type)"
   ]
  },
  {
   "cell_type": "code",
   "execution_count": 47,
   "metadata": {},
   "outputs": [
    {
     "data": {
      "text/plain": [
       "Currency              object\n",
       "Date          datetime64[ns]\n",
       "High                  object\n",
       "Volume               float64\n",
       "Market Cap           float64\n",
       "dtype: object"
      ]
     },
     "execution_count": 47,
     "metadata": {},
     "output_type": "execute_result"
    }
   ],
   "source": [
    "currency_volume_2016_2019_modified.dtypes"
   ]
  },
  {
   "cell_type": "code",
   "execution_count": 48,
   "metadata": {},
   "outputs": [
    {
     "data": {
      "text/html": [
       "<div>\n",
       "<style scoped>\n",
       "    .dataframe tbody tr th:only-of-type {\n",
       "        vertical-align: middle;\n",
       "    }\n",
       "\n",
       "    .dataframe tbody tr th {\n",
       "        vertical-align: top;\n",
       "    }\n",
       "\n",
       "    .dataframe thead th {\n",
       "        text-align: right;\n",
       "    }\n",
       "</style>\n",
       "<table border=\"1\" class=\"dataframe\">\n",
       "  <thead>\n",
       "    <tr style=\"text-align: right;\">\n",
       "      <th></th>\n",
       "      <th>Currency</th>\n",
       "      <th>Date</th>\n",
       "      <th>High</th>\n",
       "      <th>Volume</th>\n",
       "      <th>Market Cap</th>\n",
       "    </tr>\n",
       "  </thead>\n",
       "  <tbody>\n",
       "    <tr>\n",
       "      <th>0</th>\n",
       "      <td>tezos</td>\n",
       "      <td>2019-12-04</td>\n",
       "      <td>1.32</td>\n",
       "      <td>46048752.0</td>\n",
       "      <td>824588509.0</td>\n",
       "    </tr>\n",
       "    <tr>\n",
       "      <th>1</th>\n",
       "      <td>tezos</td>\n",
       "      <td>2019-12-03</td>\n",
       "      <td>1.32</td>\n",
       "      <td>41462224.0</td>\n",
       "      <td>853213342.0</td>\n",
       "    </tr>\n",
       "    <tr>\n",
       "      <th>2</th>\n",
       "      <td>tezos</td>\n",
       "      <td>2019-12-02</td>\n",
       "      <td>1.26</td>\n",
       "      <td>27574097.0</td>\n",
       "      <td>817872179.0</td>\n",
       "    </tr>\n",
       "    <tr>\n",
       "      <th>3</th>\n",
       "      <td>tezos</td>\n",
       "      <td>2019-12-01</td>\n",
       "      <td>1.34</td>\n",
       "      <td>24127567.0</td>\n",
       "      <td>828296390.0</td>\n",
       "    </tr>\n",
       "    <tr>\n",
       "      <th>4</th>\n",
       "      <td>tezos</td>\n",
       "      <td>2019-11-30</td>\n",
       "      <td>1.37</td>\n",
       "      <td>28706667.0</td>\n",
       "      <td>879181680.0</td>\n",
       "    </tr>\n",
       "    <tr>\n",
       "      <th>...</th>\n",
       "      <td>...</td>\n",
       "      <td>...</td>\n",
       "      <td>...</td>\n",
       "      <td>...</td>\n",
       "      <td>...</td>\n",
       "    </tr>\n",
       "    <tr>\n",
       "      <th>27960</th>\n",
       "      <td>bitcoin-sv</td>\n",
       "      <td>2016-01-06</td>\n",
       "      <td>3.47</td>\n",
       "      <td>2208860.0</td>\n",
       "      <td>151734839.0</td>\n",
       "    </tr>\n",
       "    <tr>\n",
       "      <th>27961</th>\n",
       "      <td>bitcoin-sv</td>\n",
       "      <td>2016-01-05</td>\n",
       "      <td>3.51</td>\n",
       "      <td>2104650.0</td>\n",
       "      <td>152390643.0</td>\n",
       "    </tr>\n",
       "    <tr>\n",
       "      <th>27962</th>\n",
       "      <td>bitcoin-sv</td>\n",
       "      <td>2016-01-04</td>\n",
       "      <td>3.51</td>\n",
       "      <td>3309740.0</td>\n",
       "      <td>153467942.0</td>\n",
       "    </tr>\n",
       "    <tr>\n",
       "      <th>27963</th>\n",
       "      <td>bitcoin-sv</td>\n",
       "      <td>2016-01-03</td>\n",
       "      <td>3.51</td>\n",
       "      <td>2406150.0</td>\n",
       "      <td>152873557.0</td>\n",
       "    </tr>\n",
       "    <tr>\n",
       "      <th>27964</th>\n",
       "      <td>bitcoin-sv</td>\n",
       "      <td>2016-01-02</td>\n",
       "      <td>3.53</td>\n",
       "      <td>3020260.0</td>\n",
       "      <td>153658445.0</td>\n",
       "    </tr>\n",
       "  </tbody>\n",
       "</table>\n",
       "<p>17196 rows × 5 columns</p>\n",
       "</div>"
      ],
      "text/plain": [
       "         Currency       Date  High      Volume   Market Cap\n",
       "0           tezos 2019-12-04  1.32  46048752.0  824588509.0\n",
       "1           tezos 2019-12-03  1.32  41462224.0  853213342.0\n",
       "2           tezos 2019-12-02  1.26  27574097.0  817872179.0\n",
       "3           tezos 2019-12-01  1.34  24127567.0  828296390.0\n",
       "4           tezos 2019-11-30  1.37  28706667.0  879181680.0\n",
       "...           ...        ...   ...         ...          ...\n",
       "27960  bitcoin-sv 2016-01-06  3.47   2208860.0  151734839.0\n",
       "27961  bitcoin-sv 2016-01-05  3.51   2104650.0  152390643.0\n",
       "27962  bitcoin-sv 2016-01-04  3.51   3309740.0  153467942.0\n",
       "27963  bitcoin-sv 2016-01-03  3.51   2406150.0  152873557.0\n",
       "27964  bitcoin-sv 2016-01-02  3.53   3020260.0  153658445.0\n",
       "\n",
       "[17196 rows x 5 columns]"
      ]
     },
     "execution_count": 48,
     "metadata": {},
     "output_type": "execute_result"
    }
   ],
   "source": [
    "currency_volume_2016_2019_modified"
   ]
  },
  {
   "cell_type": "code",
   "execution_count": 49,
   "metadata": {},
   "outputs": [],
   "source": [
    "#subset the 3 top currencies\n",
    "currencie_top3_MarketCap = ['bitcoin', 'xrp', 'ethereum']"
   ]
  },
  {
   "cell_type": "code",
   "execution_count": 50,
   "metadata": {},
   "outputs": [],
   "source": [
    "# subset the DataFrame to include data from the top 3 currencies\n",
    "currencie_top3_MarketCap = currency_volume_2016_2019_modified[(currency_volume_2016_2019_modified.Currency.isin(currencie_top3_MarketCap))]"
   ]
  },
  {
   "cell_type": "code",
   "execution_count": 51,
   "metadata": {},
   "outputs": [
    {
     "data": {
      "text/html": [
       "<div>\n",
       "<style scoped>\n",
       "    .dataframe tbody tr th:only-of-type {\n",
       "        vertical-align: middle;\n",
       "    }\n",
       "\n",
       "    .dataframe tbody tr th {\n",
       "        vertical-align: top;\n",
       "    }\n",
       "\n",
       "    .dataframe thead th {\n",
       "        text-align: right;\n",
       "    }\n",
       "</style>\n",
       "<table border=\"1\" class=\"dataframe\">\n",
       "  <thead>\n",
       "    <tr style=\"text-align: right;\">\n",
       "      <th></th>\n",
       "      <th>Currency</th>\n",
       "      <th>Date</th>\n",
       "      <th>High</th>\n",
       "      <th>Volume</th>\n",
       "      <th>Market Cap</th>\n",
       "    </tr>\n",
       "  </thead>\n",
       "  <tbody>\n",
       "    <tr>\n",
       "      <th>7236</th>\n",
       "      <td>bitcoin</td>\n",
       "      <td>2019-12-04</td>\n",
       "      <td>7,539.78</td>\n",
       "      <td>2.166424e+10</td>\n",
       "      <td>1.311431e+11</td>\n",
       "    </tr>\n",
       "    <tr>\n",
       "      <th>7237</th>\n",
       "      <td>bitcoin</td>\n",
       "      <td>2019-12-03</td>\n",
       "      <td>7,418.86</td>\n",
       "      <td>1.479749e+10</td>\n",
       "      <td>1.323599e+11</td>\n",
       "    </tr>\n",
       "    <tr>\n",
       "      <th>7238</th>\n",
       "      <td>bitcoin</td>\n",
       "      <td>2019-12-02</td>\n",
       "      <td>7,474.82</td>\n",
       "      <td>1.708204e+10</td>\n",
       "      <td>1.323790e+11</td>\n",
       "    </tr>\n",
       "    <tr>\n",
       "      <th>7239</th>\n",
       "      <td>bitcoin</td>\n",
       "      <td>2019-12-01</td>\n",
       "      <td>7,571.62</td>\n",
       "      <td>1.872071e+10</td>\n",
       "      <td>1.342151e+11</td>\n",
       "    </tr>\n",
       "    <tr>\n",
       "      <th>7240</th>\n",
       "      <td>bitcoin</td>\n",
       "      <td>2019-11-30</td>\n",
       "      <td>7,836.10</td>\n",
       "      <td>1.715819e+10</td>\n",
       "      <td>1.368294e+11</td>\n",
       "    </tr>\n",
       "    <tr>\n",
       "      <th>...</th>\n",
       "      <td>...</td>\n",
       "      <td>...</td>\n",
       "      <td>...</td>\n",
       "      <td>...</td>\n",
       "      <td>...</td>\n",
       "    </tr>\n",
       "    <tr>\n",
       "      <th>23136</th>\n",
       "      <td>ethereum</td>\n",
       "      <td>2016-01-06</td>\n",
       "      <td>0.960659</td>\n",
       "      <td>3.087910e+05</td>\n",
       "      <td>7.231715e+07</td>\n",
       "    </tr>\n",
       "    <tr>\n",
       "      <th>23137</th>\n",
       "      <td>ethereum</td>\n",
       "      <td>2016-01-05</td>\n",
       "      <td>0.970597</td>\n",
       "      <td>2.198330e+05</td>\n",
       "      <td>7.224097e+07</td>\n",
       "    </tr>\n",
       "    <tr>\n",
       "      <th>23138</th>\n",
       "      <td>ethereum</td>\n",
       "      <td>2016-01-04</td>\n",
       "      <td>0.976438</td>\n",
       "      <td>3.462450e+05</td>\n",
       "      <td>7.254371e+07</td>\n",
       "    </tr>\n",
       "    <tr>\n",
       "      <th>23139</th>\n",
       "      <td>ethereum</td>\n",
       "      <td>2016-01-03</td>\n",
       "      <td>0.991362</td>\n",
       "      <td>4.076320e+05</td>\n",
       "      <td>7.384329e+07</td>\n",
       "    </tr>\n",
       "    <tr>\n",
       "      <th>23140</th>\n",
       "      <td>ethereum</td>\n",
       "      <td>2016-01-02</td>\n",
       "      <td>0.969637</td>\n",
       "      <td>2.555040e+05</td>\n",
       "      <td>7.117666e+07</td>\n",
       "    </tr>\n",
       "  </tbody>\n",
       "</table>\n",
       "<p>4299 rows × 5 columns</p>\n",
       "</div>"
      ],
      "text/plain": [
       "       Currency       Date      High        Volume    Market Cap\n",
       "7236    bitcoin 2019-12-04  7,539.78  2.166424e+10  1.311431e+11\n",
       "7237    bitcoin 2019-12-03  7,418.86  1.479749e+10  1.323599e+11\n",
       "7238    bitcoin 2019-12-02  7,474.82  1.708204e+10  1.323790e+11\n",
       "7239    bitcoin 2019-12-01  7,571.62  1.872071e+10  1.342151e+11\n",
       "7240    bitcoin 2019-11-30  7,836.10  1.715819e+10  1.368294e+11\n",
       "...         ...        ...       ...           ...           ...\n",
       "23136  ethereum 2016-01-06  0.960659  3.087910e+05  7.231715e+07\n",
       "23137  ethereum 2016-01-05  0.970597  2.198330e+05  7.224097e+07\n",
       "23138  ethereum 2016-01-04  0.976438  3.462450e+05  7.254371e+07\n",
       "23139  ethereum 2016-01-03  0.991362  4.076320e+05  7.384329e+07\n",
       "23140  ethereum 2016-01-02  0.969637  2.555040e+05  7.117666e+07\n",
       "\n",
       "[4299 rows x 5 columns]"
      ]
     },
     "execution_count": 51,
     "metadata": {},
     "output_type": "execute_result"
    }
   ],
   "source": [
    "currencie_top3_MarketCap"
   ]
  },
  {
   "cell_type": "markdown",
   "metadata": {},
   "source": [
    "# Top 3 Currencies by Market Cap"
   ]
  },
  {
   "cell_type": "markdown",
   "metadata": {},
   "source": [
    "I have selected the top 3 currencies in two ways:\n",
    "\n",
    "- the first one I made based on the Market Cap value from which I am generating only one graph.\n",
    "- the second selection of the 3 main currencies was based on the volume from which I will generate the two different graphs for each age group."
   ]
  },
  {
   "cell_type": "code",
   "execution_count": 52,
   "metadata": {},
   "outputs": [
    {
     "data": {
      "text/plain": [
       "Text(0, 0.5, 'Date')"
      ]
     },
     "execution_count": 52,
     "metadata": {},
     "output_type": "execute_result"
    },
    {
     "data": {
      "image/png": "[encoded data removed]",
      "text/plain": [
       "<Figure size 432x288 with 1 Axes>"
      ]
     },
     "metadata": {
      "needs_background": "light"
     },
     "output_type": "display_data"
    }
   ],
   "source": [
    "ax = sns.scatterplot(x=\"Volume\", y=\"Currency\", data=currencie_top3_MarketCap, hue='Currency')\n",
    "ax.set_xlabel('Volume', fontdict={'fontsize' : 15})\n",
    "ax.set_ylabel('Date', fontdict={'fontsize' : 15})"
   ]
  },
  {
   "cell_type": "markdown",
   "metadata": {},
   "source": [
    "# Top 3 Currencies by Volume"
   ]
  },
  {
   "cell_type": "code",
   "execution_count": 54,
   "metadata": {},
   "outputs": [],
   "source": [
    "#top 3 currencies by Volume\n",
    "currencie_top3 = ['bitcoin', 'tether', 'ethereum']"
   ]
  },
  {
   "cell_type": "code",
   "execution_count": 55,
   "metadata": {},
   "outputs": [],
   "source": [
    "# subset the DataFrame to include data from the top 3 currencies\n",
    "currencie_top3 = currency_volume_2016_2019_modified[(currency_volume_2016_2019_modified.Currency.isin(currencie_top3))]"
   ]
  },
  {
   "cell_type": "code",
   "execution_count": 56,
   "metadata": {},
   "outputs": [
    {
     "data": {
      "text/html": [
       "<div>\n",
       "<style scoped>\n",
       "    .dataframe tbody tr th:only-of-type {\n",
       "        vertical-align: middle;\n",
       "    }\n",
       "\n",
       "    .dataframe tbody tr th {\n",
       "        vertical-align: top;\n",
       "    }\n",
       "\n",
       "    .dataframe thead th {\n",
       "        text-align: right;\n",
       "    }\n",
       "</style>\n",
       "<table border=\"1\" class=\"dataframe\">\n",
       "  <thead>\n",
       "    <tr style=\"text-align: right;\">\n",
       "      <th></th>\n",
       "      <th>Currency</th>\n",
       "      <th>Date</th>\n",
       "      <th>High</th>\n",
       "      <th>Volume</th>\n",
       "      <th>Market Cap</th>\n",
       "    </tr>\n",
       "  </thead>\n",
       "  <tbody>\n",
       "    <tr>\n",
       "      <th>7236</th>\n",
       "      <td>bitcoin</td>\n",
       "      <td>2019-12-04</td>\n",
       "      <td>7,539.78</td>\n",
       "      <td>2.166424e+10</td>\n",
       "      <td>1.311431e+11</td>\n",
       "    </tr>\n",
       "    <tr>\n",
       "      <th>7237</th>\n",
       "      <td>bitcoin</td>\n",
       "      <td>2019-12-03</td>\n",
       "      <td>7,418.86</td>\n",
       "      <td>1.479749e+10</td>\n",
       "      <td>1.323599e+11</td>\n",
       "    </tr>\n",
       "    <tr>\n",
       "      <th>7238</th>\n",
       "      <td>bitcoin</td>\n",
       "      <td>2019-12-02</td>\n",
       "      <td>7,474.82</td>\n",
       "      <td>1.708204e+10</td>\n",
       "      <td>1.323790e+11</td>\n",
       "    </tr>\n",
       "    <tr>\n",
       "      <th>7239</th>\n",
       "      <td>bitcoin</td>\n",
       "      <td>2019-12-01</td>\n",
       "      <td>7,571.62</td>\n",
       "      <td>1.872071e+10</td>\n",
       "      <td>1.342151e+11</td>\n",
       "    </tr>\n",
       "    <tr>\n",
       "      <th>7240</th>\n",
       "      <td>bitcoin</td>\n",
       "      <td>2019-11-30</td>\n",
       "      <td>7,836.10</td>\n",
       "      <td>1.715819e+10</td>\n",
       "      <td>1.368294e+11</td>\n",
       "    </tr>\n",
       "    <tr>\n",
       "      <th>...</th>\n",
       "      <td>...</td>\n",
       "      <td>...</td>\n",
       "      <td>...</td>\n",
       "      <td>...</td>\n",
       "      <td>...</td>\n",
       "    </tr>\n",
       "    <tr>\n",
       "      <th>23136</th>\n",
       "      <td>ethereum</td>\n",
       "      <td>2016-01-06</td>\n",
       "      <td>0.960659</td>\n",
       "      <td>3.087910e+05</td>\n",
       "      <td>7.231715e+07</td>\n",
       "    </tr>\n",
       "    <tr>\n",
       "      <th>23137</th>\n",
       "      <td>ethereum</td>\n",
       "      <td>2016-01-05</td>\n",
       "      <td>0.970597</td>\n",
       "      <td>2.198330e+05</td>\n",
       "      <td>7.224097e+07</td>\n",
       "    </tr>\n",
       "    <tr>\n",
       "      <th>23138</th>\n",
       "      <td>ethereum</td>\n",
       "      <td>2016-01-04</td>\n",
       "      <td>0.976438</td>\n",
       "      <td>3.462450e+05</td>\n",
       "      <td>7.254371e+07</td>\n",
       "    </tr>\n",
       "    <tr>\n",
       "      <th>23139</th>\n",
       "      <td>ethereum</td>\n",
       "      <td>2016-01-03</td>\n",
       "      <td>0.991362</td>\n",
       "      <td>4.076320e+05</td>\n",
       "      <td>7.384329e+07</td>\n",
       "    </tr>\n",
       "    <tr>\n",
       "      <th>23140</th>\n",
       "      <td>ethereum</td>\n",
       "      <td>2016-01-02</td>\n",
       "      <td>0.969637</td>\n",
       "      <td>2.555040e+05</td>\n",
       "      <td>7.117666e+07</td>\n",
       "    </tr>\n",
       "  </tbody>\n",
       "</table>\n",
       "<p>4299 rows × 5 columns</p>\n",
       "</div>"
      ],
      "text/plain": [
       "       Currency       Date      High        Volume    Market Cap\n",
       "7236    bitcoin 2019-12-04  7,539.78  2.166424e+10  1.311431e+11\n",
       "7237    bitcoin 2019-12-03  7,418.86  1.479749e+10  1.323599e+11\n",
       "7238    bitcoin 2019-12-02  7,474.82  1.708204e+10  1.323790e+11\n",
       "7239    bitcoin 2019-12-01  7,571.62  1.872071e+10  1.342151e+11\n",
       "7240    bitcoin 2019-11-30  7,836.10  1.715819e+10  1.368294e+11\n",
       "...         ...        ...       ...           ...           ...\n",
       "23136  ethereum 2016-01-06  0.960659  3.087910e+05  7.231715e+07\n",
       "23137  ethereum 2016-01-05  0.970597  2.198330e+05  7.224097e+07\n",
       "23138  ethereum 2016-01-04  0.976438  3.462450e+05  7.254371e+07\n",
       "23139  ethereum 2016-01-03  0.991362  4.076320e+05  7.384329e+07\n",
       "23140  ethereum 2016-01-02  0.969637  2.555040e+05  7.117666e+07\n",
       "\n",
       "[4299 rows x 5 columns]"
      ]
     },
     "execution_count": 56,
     "metadata": {},
     "output_type": "execute_result"
    }
   ],
   "source": [
    "currencie_top3"
   ]
  },
  {
   "cell_type": "markdown",
   "metadata": {},
   "source": [
    "# 17-35-year olds"
   ]
  },
  {
   "cell_type": "code",
   "execution_count": 94,
   "metadata": {},
   "outputs": [
    {
     "data": {
      "text/plain": [
       "Text(0, 0.5, 'Volume')"
      ]
     },
     "execution_count": 94,
     "metadata": {},
     "output_type": "execute_result"
    },
    {
     "data": {
      "image/png": "[encoded data removed]",
      "text/plain": [
       "<Figure size 432x288 with 1 Axes>"
      ]
     },
     "metadata": {
      "needs_background": "light"
     },
     "output_type": "display_data"
    }
   ],
   "source": [
    "fig1 = pt.figure()\n",
    "\n",
    "ax = fig1.add_subplot(111)\n",
    "\n",
    "ax = sns.scatterplot(x=\"Date\", y=\"Volume\", data=currencie_top3[currencie_top3['Currency']=='bitcoin'], color='darkred')\n",
    "ax = sns.scatterplot(x=\"Date\", y=\"Volume\", data=currencie_top3[currencie_top3['Currency']=='tether'], color='green')\n",
    "ax = sns.scatterplot(x=\"Date\", y=\"Volume\", data=currencie_top3[currencie_top3['Currency']=='ethereum'], color='blue')\n",
    "ax = sns.scatterplot(x=\"Date\", y=\"Volume\", data=currencie_top3, hue='Currency')\n",
    "ax.set_xlabel('Year', fontdict={'fontsize' : 25})\n",
    "ax.set_ylabel('Volume', fontdict={'fontsize' : 25})\n",
    "#ax = sns.lineplot(x=\"Date\", y=\"Volume\", data=currency_volume_2016_2019_modified[currency_volume_2016_2019_modified['Currency']=='bitcoin-sv'], color='darkred')\n"
   ]
  },
  {
   "cell_type": "markdown",
   "metadata": {},
   "source": [
    "\n",
    "For the demonstration of the  “Volume”  values for the group age 17-35 I am using the scatterplot and using different colors for each Currency.<br>\n",
    "For age 60+ in this exercise I will be using the boxplot.\n",
    "Boxplot makes a better visualization to any person that looks at it can understand that  the depicting Volume for bitcoin is bigger than tether and Ethereum."
   ]
  },
  {
   "cell_type": "markdown",
   "metadata": {},
   "source": [
    "# 60+ age group"
   ]
  },
  {
   "cell_type": "code",
   "execution_count": 95,
   "metadata": {},
   "outputs": [
    {
     "data": {
      "text/plain": [
       "Text(0, 0.5, 'Volume')"
      ]
     },
     "execution_count": 95,
     "metadata": {},
     "output_type": "execute_result"
    },
    {
     "data": {
      "image/png": "[encoded data removed]",
      "text/plain": [
       "<Figure size 432x288 with 1 Axes>"
      ]
     },
     "metadata": {
      "needs_background": "light"
     },
     "output_type": "display_data"
    }
   ],
   "source": [
    "ax = sns.boxplot(x='Currency', y='Volume', data=currencie_top3)\n",
    "ax.set_xlabel('Currency', fontdict={'fontsize' : 35})\n",
    "ax.set_ylabel('Volume', fontdict={'fontsize' : 35})"
   ]
  },
  {
   "cell_type": "markdown",
   "metadata": {},
   "source": [
    "# REFERENCES"
   ]
  },
  {
   "cell_type": "markdown",
   "metadata": {},
   "source": [
    "Pandas.pydata.org. 2020. Pandas.To_Numeric — Pandas 1.2.0 Documentation. [online] Available at: <https://pandas.pydata.org/pandas-docs/stable/reference/api/pandas.to_numeric.html> [Accessed 28 December 2020].\n",
    "\n",
    "Pandas, R. and Manghwani, P., 2020. Replace Comma And Dot In Pandas. [online] Stack Overflow. Available at: <https://stackoverflow.com/questions/56315468/replace-comma-and-dot-in-pandas> [Accessed 28 December 2020].\n",
    "\n",
    "Moffitt, C., 2020. Cleaning Up Currency Data With Pandas - Practical Business Python. [online] Pbpython.com. Available at: <https://pbpython.com/currency-cleanup.html> [Accessed 28 December 2020].\n",
    "\n",
    "Medium. 2020. Python Speed Test: 5 Methods To Remove The ‘$’ From Your Data In Python. [online] Available at: <https://towardsdatascience.com/5-methods-to-remove-the-from-your-data-in-python-and-the-fastest-one-281489382455> [Accessed 28 December 2020].\n",
    "\n",
    "python work problem:ValueError: Index contains duplicate entries, c., 2020. Python Work Problem:Valueerror: Index Contains Duplicate Entries, Cannot Reshape. [online] Stack Overflow. Available at: <https://stackoverflow.com/questions/59613564/python-work-problemvalueerror-index-contains-duplicate-entries-cannot-reshape> [Accessed 28 December 2020].\n",
    "\n",
    "Pandas.pydata.org. 2020. Reshaping And Pivot Tables — Pandas 1.2.0 Documentation. [online] Available at: <https://pandas.pydata.org/pandas-docs/stable/user_guide/reshaping.html> [Accessed 28 December 2020].\n",
    "\n",
    "Bhalla, D., 2020. Python : 10 Ways To Filter Pandas Dataframe. [online] ListenData. Available at: <https://www.listendata.com/2019/07/how-to-filter-pandas-dataframe.html> [Accessed 28 December 2020]."
   ]
  },
  {
   "cell_type": "code",
   "execution_count": null,
   "metadata": {},
   "outputs": [],
   "source": []
  }
 ],
 "metadata": {
  "kernelspec": {
   "display_name": "Python 3",
   "language": "python",
   "name": "python3"
  },
  "language_info": {
   "codemirror_mode": {
    "name": "ipython",
    "version": 3
   },
   "file_extension": ".py",
   "mimetype": "text/x-python",
   "name": "python",
   "nbconvert_exporter": "python",
   "pygments_lexer": "ipython3",
   "version": "3.8.3"
  }
 },
 "nbformat": 4,
 "nbformat_minor": 4
}
